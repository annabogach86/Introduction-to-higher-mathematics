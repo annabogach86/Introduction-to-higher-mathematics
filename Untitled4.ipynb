{
 "cells": [
  {
   "cell_type": "code",
   "execution_count": 1,
   "id": "91aaadb1",
   "metadata": {},
   "outputs": [
    {
     "name": "stdout",
     "output_type": "stream",
     "text": [
      "\n",
      "24 черный\n",
      "\n",
      "15 черный\n",
      "\n",
      "23 красный\n",
      "\n",
      "30 красный\n",
      "\n",
      "30 красный\n",
      "\n",
      "8 черный\n",
      "\n",
      "16 красный\n",
      "\n",
      "33 черный\n",
      "\n",
      "5 красный\n",
      "\n",
      "19 красный\n"
     ]
    }
   ],
   "source": [
    "import numpy as np\n",
    "import matplotlib.pyplot as plt\n",
    "import math\n",
    "import random\n",
    "#plt.style.use('fivethirtyeight')\n",
    "\n",
    "%matplotlib inline\n",
    "%config InlineBackend.figure_format = 'svg'\n",
    "\n",
    "for i in range(0, 10):\n",
    "    a = input()\n",
    "    n = int(np.random.uniform(0, 36))\n",
    "    if n == 0:\n",
    "        print(n, 'zero')\n",
    "    elif 1 <= n <= 10 or 19 <= n <= 28:\n",
    "        if n % 2 == 0:\n",
    "            print(n, 'черный')\n",
    "        else:\n",
    "            print(n, 'красный')\n",
    "    elif 11 <= n <= 18 or 29 <= n <= 36:\n",
    "        if n % 2 == 0:\n",
    "            print(n, 'красный')\n",
    "        else:\n",
    "            print(n, 'черный') "
   ]
  },
  {
   "cell_type": "code",
   "execution_count": null,
   "id": "151c7f70",
   "metadata": {},
   "outputs": [],
   "source": []
  }
 ],
 "metadata": {
  "kernelspec": {
   "display_name": "Python 3 (ipykernel)",
   "language": "python",
   "name": "python3"
  },
  "language_info": {
   "codemirror_mode": {
    "name": "ipython",
    "version": 3
   },
   "file_extension": ".py",
   "mimetype": "text/x-python",
   "name": "python",
   "nbconvert_exporter": "python",
   "pygments_lexer": "ipython3",
   "version": "3.9.7"
  }
 },
 "nbformat": 4,
 "nbformat_minor": 5
}
