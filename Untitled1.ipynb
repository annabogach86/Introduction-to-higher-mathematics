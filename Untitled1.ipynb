{
 "cells": [
  {
   "cell_type": "code",
   "execution_count": null,
   "id": "34ccd398",
   "metadata": {},
   "outputs": [],
   "source": [
    "Задания к уроку 2:\n",
    "    1. Даны два вектора в трехмерном пространстве: (10,10,10) и (0,0,-10).Напишите код на Python, \n",
    "    реализующий расчет длины вектора, заданного его координатами. \n"
   ]
  },
  {
   "cell_type": "code",
   "execution_count": null,
   "id": "53bb01ff",
   "metadata": {},
   "outputs": [],
   "source": []
  }
 ],
 "metadata": {
  "kernelspec": {
   "display_name": "Python 3 (ipykernel)",
   "language": "python",
   "name": "python3"
  },
  "language_info": {
   "codemirror_mode": {
    "name": "ipython",
    "version": 3
   },
   "file_extension": ".py",
   "mimetype": "text/x-python",
   "name": "python",
   "nbconvert_exporter": "python",
   "pygments_lexer": "ipython3",
   "version": "3.9.7"
  }
 },
 "nbformat": 4,
 "nbformat_minor": 5
}
