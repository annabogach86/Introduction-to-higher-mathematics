{
 "cells": [
  {
   "cell_type": "code",
   "execution_count": null,
   "id": "0b24d47c",
   "metadata": {},
   "outputs": [],
   "source": [
    "# Практическое задание №5\n",
    "\n",
    "# 5.1 Вектор – это частный случай матрицы 1хN и Nх1. Повторите материал для векторов, уделяя особое внимание умножению A∙B.\n",
    "#     Вычислите, по возможности не используя программирование: (5Е)–1, где Е – единичная матрица размера 5х5."
   ]
  },
  {
   "cell_type": "code",
   "execution_count": 3,
   "id": "27d5f048",
   "metadata": {},
   "outputs": [
    {
     "name": "stdout",
     "output_type": "stream",
     "text": [
      "|   0.2   0.0   0.0   0.0   0.0 |\n",
      "|   0.0   0.2   0.0   0.0   0.0 |\n",
      "|   0.0   0.0   0.2   0.0   0.0 |\n",
      "|  -0.0  -0.0  -0.0   0.2  -0.0 |\n",
      "|   0.0   0.0   0.0   0.0   0.2 |\n"
     ]
    }
   ],
   "source": [
    "import numpy as np\n",
    "def print_matrix(a):\n",
    "    max_len = max([len(str(e)) for r in a for e in r])\n",
    "    for row in a:\n",
    "        print(*'|', *list(map('{{:>{length}}}'.format(length=max_len+1).format, row)), '|')\n",
    "        \n",
    "        \n",
    "E = np.eye(5)\n",
    "Z = np.linalg.inv(5*E)\n",
    "print_matrix(Z)"
   ]
  },
  {
   "cell_type": "code",
   "execution_count": null,
   "id": "2785127c",
   "metadata": {},
   "outputs": [],
   "source": [
    "# 5.2 Вычислите определитель матрицы"
   ]
  },
  {
   "cell_type": "code",
   "execution_count": 4,
   "id": "6397b3b1",
   "metadata": {},
   "outputs": [
    {
     "name": "stdout",
     "output_type": "stream",
     "text": [
      "Определитель матрицы:\n",
      "|  1  2  3 |\n",
      "|  4  0  6 |\n",
      "|  7  8  9 |\n",
      "Равен:  60.0\n"
     ]
    }
   ],
   "source": [
    "import numpy as np\n",
    "def print_matrix(a):\n",
    "    max_len = max([len(str(e)) for r in a for e in r])\n",
    "    for row in a:\n",
    "        print(*'|', *list(map('{{:>{length}}}'.format(length=max_len+1).format, row)), '|')\n",
    "\n",
    "A = np.array([\n",
    "    [1, 2, 3],\n",
    "    [4, 0, 6],\n",
    "    [7, 8, 9],\n",
    "])\n",
    "print(\"Определитель матрицы:\")\n",
    "print_matrix(A)\n",
    "print('Равен: ', round(np.linalg.det(A), 3))"
   ]
  },
  {
   "cell_type": "code",
   "execution_count": null,
   "id": "6be01242",
   "metadata": {},
   "outputs": [],
   "source": [
    "# 5.3.1 Вычислите матрицу, обратную данной"
   ]
  },
  {
   "cell_type": "code",
   "execution_count": 5,
   "id": "775f7d77",
   "metadata": {},
   "outputs": [
    {
     "name": "stdout",
     "output_type": "stream",
     "text": [
      "Ответ: \n",
      "[[-0.8         0.1         0.2       ]\n",
      " [ 0.1        -0.2         0.1       ]\n",
      " [ 0.53333333  0.1        -0.13333333]]\n"
     ]
    }
   ],
   "source": [
    "import numpy as np\n",
    "def print_matrix(a):\n",
    "    max_len = max([len(str(e)) for r in a for e in r])\n",
    "    for row in a:\n",
    "        print(*'|', *list(map('{{:>{length}}}'.format(length=max_len+1).format, row)), '|')\n",
    "\n",
    "print('Ответ: ')\n",
    "print(np.linalg.inv(A))"
   ]
  },
  {
   "cell_type": "code",
   "execution_count": null,
   "id": "4f758e92",
   "metadata": {},
   "outputs": [],
   "source": [
    "# 5.3.2 Приведите пример матрицы 4х4, ранг которой равен 1 "
   ]
  },
  {
   "cell_type": "code",
   "execution_count": 9,
   "id": "3f4113ae",
   "metadata": {},
   "outputs": [
    {
     "name": "stdout",
     "output_type": "stream",
     "text": [
      "Матрица: \n",
      "|   2  -2   2  -2 |\n",
      "|  -2   2  -2   2 |\n",
      "|   2  -2   2  -2 |\n",
      "|  -2   2  -2   2 |\n",
      "Имеет ранг 1\n"
     ]
    }
   ],
   "source": [
    "import numpy as np\n",
    "def print_matrix(a):\n",
    "    max_len = max([len(str(e)) for r in a for e in r])\n",
    "    for row in a:\n",
    "        print(*'|', *list(map('{{:>{length}}}'.format(length=max_len+1).format, row)), '|')\n",
    "        \n",
    "С = np.array([\n",
    "    [2, -2, 2, -2],\n",
    "    [-2, 2, -2, 2],\n",
    "    [2, -2, 2, -2],\n",
    "    [-2, 2, -2, 2],\n",
    "])\n",
    "print('Матрица: ')\n",
    "print_matrix(С)\n",
    "print('Имеет ранг', np.linalg.matrix_rank(С))        "
   ]
  },
  {
   "cell_type": "code",
   "execution_count": null,
   "id": "5500cb57",
   "metadata": {},
   "outputs": [],
   "source": [
    "# 5.4 Вычислите скалярное произведение двух векторов"
   ]
  },
  {
   "cell_type": "code",
   "execution_count": 10,
   "id": "d65dd960",
   "metadata": {},
   "outputs": [
    {
     "name": "stdout",
     "output_type": "stream",
     "text": [
      "Ответ:  42\n"
     ]
    }
   ],
   "source": [
    "a = np.array([1, 5])\n",
    "b = np.array([2, 8])\n",
    "print('Ответ: ', np.dot(a, b))"
   ]
  },
  {
   "cell_type": "code",
   "execution_count": null,
   "id": "47c9a468",
   "metadata": {},
   "outputs": [],
   "source": [
    "# 5.5 Вычислите смешанное произведение трех векторов (1, 5, 0), (2, 8, 7) и (7, 1.5, 3)"
   ]
  },
  {
   "cell_type": "code",
   "execution_count": 26,
   "id": "1c7be240",
   "metadata": {},
   "outputs": [
    {
     "name": "stdout",
     "output_type": "stream",
     "text": [
      "Ответ:  74.0\n"
     ]
    }
   ],
   "source": [
    "a = np.array([1, 5, 0])\n",
    "b = np.array([2, 8, 7])\n",
    "c = np.array([7, 1.5, 3])\n",
    "\n",
    "print('Ответ: ', np.dot(a, (b * c)))"
   ]
  },
  {
   "cell_type": "code",
   "execution_count": null,
   "id": "53d47f07",
   "metadata": {},
   "outputs": [],
   "source": [
    "# Практическое задание №6\n",
    "\n",
    "# 1. Решите линейную систему"
   ]
  },
  {
   "cell_type": "code",
   "execution_count": 27,
   "id": "8c4df294",
   "metadata": {},
   "outputs": [
    {
     "name": "stdout",
     "output_type": "stream",
     "text": [
      "Ответ [-9.2         0.9         6.46666667]\n"
     ]
    }
   ],
   "source": [
    "A = np.array([\n",
    "    [1, 2, 3],\n",
    "    [4, 0, 6],\n",
    "    [7, 8, 9],\n",
    "])\n",
    "b = np.array([12, 2, 1])\n",
    "X1 = np.dot(np.linalg.inv(A), b) #Решение через обратную матрицу\n",
    "X2 = np.linalg.solve(A, b) #Решение численным методом\n",
    "\n",
    "#print(X1, X2)\n",
    "print('Ответ', X1)"
   ]
  },
  {
   "cell_type": "code",
   "execution_count": null,
   "id": "d63a1235",
   "metadata": {},
   "outputs": [],
   "source": [
    "# 2. Найдите псевдорешение\n",
    "x + 2y – z = 1\n",
    "3x – 4y = 7\n",
    "8x – 5y + 2z = 12\n",
    "2x – 5z = 7\n",
    "11x +4y – 7z = 15"
   ]
  },
  {
   "cell_type": "code",
   "execution_count": 28,
   "id": "298d8ae4",
   "metadata": {},
   "outputs": [
    {
     "name": "stdout",
     "output_type": "stream",
     "text": [
      "Ответ:  [ 1.13919353 -0.90498444 -0.9009803 ]\n"
     ]
    }
   ],
   "source": [
    "A = np.array([\n",
    "    [1, 2, -1],\n",
    "    [3, -4, 0],\n",
    "    [8, -5, 2],\n",
    "    [2, 0, -5],\n",
    "    [11, 4, -7],\n",
    "])\n",
    "b = np.array([1, 7, 12, 7, 15])\n",
    "X = np.dot(np.linalg.pinv(A), b)\n",
    "print('Ответ: ', X)"
   ]
  },
  {
   "cell_type": "code",
   "execution_count": 29,
   "id": "12298c47",
   "metadata": {},
   "outputs": [
    {
     "name": "stdout",
     "output_type": "stream",
     "text": [
      "Проверка псевдорешения\n",
      "1 ~  0.2302049464546465\n",
      "7 ~  7.037518339240221\n",
      "12 ~  11.836509811711322\n",
      "7 ~  6.783288552480718\n",
      "15 ~  15.218053130652056\n"
     ]
    }
   ],
   "source": [
    "print('Проверка псевдорешения')\n",
    "print('1 ~ ', 1 * X[0] + 2 * X[1] - 1 * X[2])\n",
    "print('7 ~ ', 3 * X[0] - 4 * X[1] + 0 * X[2])\n",
    "print('12 ~ ', 8 * X[0] - 5 * X[1] + 2 * X[2])\n",
    "print('7 ~ ', 2 * X[0] + 0 * X[1] - 5 * X[2])\n",
    "print('15 ~ ', 11 * X[0] + 4 * X[1] - 7 * X[2])"
   ]
  },
  {
   "cell_type": "code",
   "execution_count": null,
   "id": "0ed9f56a",
   "metadata": {},
   "outputs": [],
   "source": [
    "#  3. Сколько решений имеет линейная система.\n",
    "#  Если ноль – то измените вектор правой части так, чтобы система стала совместной, и решите ее."
   ]
  },
  {
   "cell_type": "code",
   "execution_count": 31,
   "id": "b9566432",
   "metadata": {},
   "outputs": [
    {
     "name": "stdout",
     "output_type": "stream",
     "text": [
      "Система не имеет решений. Система несовместна\n"
     ]
    }
   ],
   "source": [
    "def solve_slau(A, b):\n",
    "    detA = round(np.linalg.det(A), 8)\n",
    "    #print(detA)\n",
    "    def _i_det(M, v, i):\n",
    "        Mi = M.copy()\n",
    "        Mi[:,i] = v\n",
    "        detMi = round(np.linalg.det(Mi), 8)\n",
    "        return detMi\n",
    "\n",
    "    detA1 = _i_det(A, b, 0)\n",
    "    detA2 = _i_det(A, b, 1)\n",
    "    detA3 = _i_det(A, b, 2)\n",
    "    \n",
    "    #print(detA1, detA2, detA3)\n",
    "    if detA != 0:\n",
    "        print('Система имеет одно решение')\n",
    "        return np.linalg.solve(A, b)\n",
    "    else:\n",
    "        if (detA1 == 0) & (detA2 == 0) & (detA3 == 0):\n",
    "            print('Система бесконечное число решений. Система совместна и неопределённа')\n",
    "            return np.linalg.solve(A, b)\n",
    "        else:\n",
    "            print('Система не имеет решений. Система несовместна')\n",
    "            return None\n",
    "        \n",
    "A = np.array([\n",
    "    [1, 2, 3],\n",
    "    [4, 5, 6],\n",
    "    [7, 8, 9],\n",
    "])\n",
    "b = np.array([12, 2, 1])\n",
    "\n",
    "\n",
    "solve_slau(A, b)"
   ]
  },
  {
   "cell_type": "code",
   "execution_count": 32,
   "id": "ef1d99a9",
   "metadata": {},
   "outputs": [
    {
     "name": "stdout",
     "output_type": "stream",
     "text": [
      "Система бесконечное число решений. Система совместна и неопределённа\n"
     ]
    },
    {
     "data": {
      "text/plain": [
       "array([-0.8,  5.6, -0.8])"
      ]
     },
     "execution_count": 32,
     "metadata": {},
     "output_type": "execute_result"
    }
   ],
   "source": [
    "c = np.array([8, 20, 32])\n",
    "solve_slau(A, c)"
   ]
  },
  {
   "cell_type": "code",
   "execution_count": null,
   "id": "15dda380",
   "metadata": {},
   "outputs": [],
   "source": [
    "#  4. Вычислите LU-разложение матрицы:\n",
    "#  После этого придумайте вектор правых частей и решите полученную линейную систему трех уравнений с данной матрицей."
   ]
  },
  {
   "cell_type": "code",
   "execution_count": 33,
   "id": "4339f70f",
   "metadata": {},
   "outputs": [
    {
     "name": "stdout",
     "output_type": "stream",
     "text": [
      "p:\n",
      " [[0. 1. 0.]\n",
      " [0. 0. 1.]\n",
      " [1. 0. 0.]] \n",
      "\n",
      "L:\n",
      " [[ 1.    0.    0.  ]\n",
      " [ 0.25  1.    0.  ]\n",
      " [ 0.5  -0.4   1.  ]] \n",
      "\n",
      "U:\n",
      " [[  4.    28.    73.  ]\n",
      " [  0.    -5.   -15.25]\n",
      " [  0.     0.   -21.6 ]]\n"
     ]
    }
   ],
   "source": [
    "from scipy.linalg import lu\n",
    "\n",
    "\n",
    "A = np.array([\n",
    "    [1, 2, 3],\n",
    "    [2, 16, 21],\n",
    "    [4, 28, 73],\n",
    "])\n",
    "P, L, U = lu(A)\n",
    "\n",
    "print('p:\\n', P,'\\n\\nL:\\n', L,'\\n\\nU:\\n', U)"
   ]
  },
  {
   "cell_type": "code",
   "execution_count": 34,
   "id": "e947af8f",
   "metadata": {},
   "outputs": [
    {
     "name": "stdout",
     "output_type": "stream",
     "text": [
      "[ 5.7962963  -0.00925926 -0.25925926]\n"
     ]
    }
   ],
   "source": [
    "b = np.array([4, 5, 6])\n",
    "y = np.linalg.solve(L, b)\n",
    "X = np.linalg.solve(U, y)\n",
    "print(X)"
   ]
  },
  {
   "cell_type": "code",
   "execution_count": null,
   "id": "a502a610",
   "metadata": {},
   "outputs": [],
   "source": [
    "#  5. Найдите нормальное псевдорешение недоопределенной системы:\n",
    "x + 2y – z = 1\n",
    "8x – 5y + 2z = 12\n",
    "#  Для этого определите функцию Q(x,y,z), равную норме решения, и найдите ее минимум."
   ]
  },
  {
   "cell_type": "code",
   "execution_count": 35,
   "id": "3fc19ff3",
   "metadata": {},
   "outputs": [
    {
     "name": "stdout",
     "output_type": "stream",
     "text": [
      "2.449489742783178\n",
      "9.643650760992955\n",
      "(array([ 1.38191882, -0.18081181,  0.0202952 ]), array([], dtype=float64), 2, array([9.65316119, 2.41173777]))\n"
     ]
    },
    {
     "name": "stderr",
     "output_type": "stream",
     "text": [
      "C:\\Users\\73B5~1\\AppData\\Local\\Temp/ipykernel_17228/1074857616.py:14: FutureWarning: `rcond` parameter will change to the default of machine precision times ``max(M, N)`` where M and N are the input matrix dimensions.\n",
      "To use the future default and silence this warning we advise to pass `rcond=None`, to keep using the old, explicitly pass `rcond=-1`.\n",
      "  print(np.linalg.lstsq(A,B))\n"
     ]
    }
   ],
   "source": [
    "def Q(x, y, z):\n",
    "    return np.linalg.norm(np.array([x, y, z]))\n",
    "\n",
    "A = np.array([\n",
    "    [1, 2, -1],\n",
    "    [8, -5, 2],\n",
    "])\n",
    "B = np.array([1,12])\n",
    "\n",
    "print(Q(1, 2, -1))\n",
    "print(Q(8, -5, 2))\n",
    "\n",
    "#detA = np.linalg.det(A)\n",
    "print(np.linalg.lstsq(A,B))"
   ]
  },
  {
   "cell_type": "code",
   "execution_count": null,
   "id": "ddc5ec84",
   "metadata": {},
   "outputs": [],
   "source": [
    "#  6. Найдите одно из псевдорешений вырожденной системы. Попробуйте также отыскать и нормальное псевдорешение."
   ]
  },
  {
   "cell_type": "code",
   "execution_count": 36,
   "id": "568d7f42",
   "metadata": {},
   "outputs": [
    {
     "name": "stdout",
     "output_type": "stream",
     "text": [
      "(array([ 1.25,  0.5 , -0.25]), array([], dtype=float64), 2, array([1.68481034e+01, 1.06836951e+00, 3.33475287e-16]))\n"
     ]
    },
    {
     "name": "stderr",
     "output_type": "stream",
     "text": [
      "C:\\Users\\73B5~1\\AppData\\Local\\Temp/ipykernel_17228/1620531041.py:8: FutureWarning: `rcond` parameter will change to the default of machine precision times ``max(M, N)`` where M and N are the input matrix dimensions.\n",
      "To use the future default and silence this warning we advise to pass `rcond=None`, to keep using the old, explicitly pass `rcond=-1`.\n",
      "  print(np.linalg.lstsq(A,B))\n"
     ]
    }
   ],
   "source": [
    "A = np.array([\n",
    "    [1, 2, 3],\n",
    "    [4, 5, 6],\n",
    "    [7, 8, 9],\n",
    "])\n",
    "B = np.array([2,5,11])\n",
    "\n",
    "print(np.linalg.lstsq(A,B))"
   ]
  },
  {
   "cell_type": "code",
   "execution_count": null,
   "id": "111cb766",
   "metadata": {},
   "outputs": [],
   "source": []
  }
 ],
 "metadata": {
  "kernelspec": {
   "display_name": "Python 3 (ipykernel)",
   "language": "python",
   "name": "python3"
  },
  "language_info": {
   "codemirror_mode": {
    "name": "ipython",
    "version": 3
   },
   "file_extension": ".py",
   "mimetype": "text/x-python",
   "name": "python",
   "nbconvert_exporter": "python",
   "pygments_lexer": "ipython3",
   "version": "3.9.7"
  }
 },
 "nbformat": 4,
 "nbformat_minor": 5
}
