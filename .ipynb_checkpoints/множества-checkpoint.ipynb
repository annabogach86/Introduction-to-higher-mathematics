{
 "cells": [
  {
   "cell_type": "code",
   "execution_count": 8,
   "id": "440a0642",
   "metadata": {},
   "outputs": [],
   "source": [
    "#Зададим множества А и В и С. Не обязательно числовые\n",
    "A = {-1, 0, 3}\n",
    "B = {'a', 'b', 'c', 'd', 'e'}\n",
    "C = {-2, 0, 2, 8}"
   ]
  },
  {
   "cell_type": "code",
   "execution_count": 10,
   "id": "90e4fb50",
   "metadata": {},
   "outputs": [
    {
     "name": "stdout",
     "output_type": "stream",
     "text": [
      "{0, 'd', 2, 3, 'b', 8, 'e', 'c', -2, 'a', -1}\n"
     ]
    }
   ],
   "source": [
    "# Объединение множеств можно проделать с помощью оператора \"|\" или функция union()\n",
    "print(A | B | C)"
   ]
  },
  {
   "cell_type": "code",
   "execution_count": 11,
   "id": "790e6e9d",
   "metadata": {},
   "outputs": [
    {
     "name": "stdout",
     "output_type": "stream",
     "text": [
      "set()\n"
     ]
    }
   ],
   "source": [
    "# Пересечение с помощью оператора \"&\" или функция intersection()\n",
    "print(A & B & C)"
   ]
  },
  {
   "cell_type": "code",
   "execution_count": 13,
   "id": "bee1d9ab",
   "metadata": {},
   "outputs": [
    {
     "name": "stdout",
     "output_type": "stream",
     "text": [
      "{3, -1}\n",
      "{8, 2, -2}\n"
     ]
    }
   ],
   "source": [
    "# Разность с помощью оператора \"-\" или функция difference()\n",
    "print(A - C)\n",
    "print(C - A)"
   ]
  },
  {
   "cell_type": "code",
   "execution_count": 14,
   "id": "11c3816d",
   "metadata": {},
   "outputs": [
    {
     "name": "stdout",
     "output_type": "stream",
     "text": [
      "{2, 3, 8, -1, -2}\n"
     ]
    }
   ],
   "source": [
    "#Симметричную разность с помощью оператора \"^\" или функция symmetric_difference()\n",
    "print(A ^ C)"
   ]
  },
  {
   "cell_type": "code",
   "execution_count": null,
   "id": "c738d721",
   "metadata": {},
   "outputs": [],
   "source": []
  }
 ],
 "metadata": {
  "kernelspec": {
   "display_name": "Python 3 (ipykernel)",
   "language": "python",
   "name": "python3"
  },
  "language_info": {
   "codemirror_mode": {
    "name": "ipython",
    "version": 3
   },
   "file_extension": ".py",
   "mimetype": "text/x-python",
   "name": "python",
   "nbconvert_exporter": "python",
   "pygments_lexer": "ipython3",
   "version": "3.9.7"
  }
 },
 "nbformat": 4,
 "nbformat_minor": 5
}
